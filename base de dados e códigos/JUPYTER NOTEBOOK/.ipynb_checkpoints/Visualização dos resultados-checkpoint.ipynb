{
 "cells": [
  {
   "cell_type": "code",
   "execution_count": 2,
   "metadata": {},
   "outputs": [],
   "source": [
    "import pandas as pd\n",
    "import numpy as np\n",
    "from sklearn.feature_selection import SelectFromModel\n",
    "from sklearn.preprocessing import OneHotEncoder\n",
    "from sklearn.compose import ColumnTransformer\n",
    "from sklearn.preprocessing import LabelEncoder\n",
    "from sklearn.preprocessing import StandardScaler\n",
    "from trinta_testes_validacao_cruzada import TrintaTestes\n",
    "import matplotlib\n",
    "import matplotlib.pyplot as plt\n",
    "import seaborn as sns\n",
    "import warnings\n",
    "\n",
    "warnings.filterwarnings('ignore')\n",
    "%matplotlib inline\n",
    "matplotlib.style.use('default')\n",
    "plt.rcParams['figure.figsize'] = [6, 4]\n",
    "\n",
    "#Pandas Settings\n",
    "pd.options.display.float_format = '{:,.2f}'.format"
   ]
  },
  {
   "cell_type": "code",
   "execution_count": 3,
   "metadata": {},
   "outputs": [],
   "source": [
    "# pré-processamento dos dados\n",
    "\n",
    "base = pd.read_csv('dados_meio_tempo_com_odds.csv').drop(['Unnamed: 0'], axis=1).sample(frac=1).reset_index(drop=True)\n",
    "\n",
    "previsores = base.iloc[:, 0:35].values\n",
    "classe = base.iloc[:, 35].values\n",
    "\n",
    "# apenas para visualizar em forma de dataframe\n",
    "classe_df = pd.DataFrame(classe)\n",
    "previsores_df = pd.DataFrame(previsores)"
   ]
  },
  {
   "cell_type": "markdown",
   "metadata": {},
   "source": [
    "## Pré-processamento dos dados"
   ]
  },
  {
   "cell_type": "code",
   "execution_count": 3,
   "metadata": {},
   "outputs": [],
   "source": [
    "# transformando variáveis categóricas em numéricas usando o LabelEncoder\n",
    "\n",
    "# para previsores\n",
    "labelencoder_X = LabelEncoder()\n",
    "previsores[:, 0] = labelencoder_X.fit_transform(previsores[:, 0])\n",
    "previsores[:, 1] = labelencoder_X.fit_transform(previsores[:, 1])\n",
    "previsores[:, 31] = labelencoder_X.fit_transform(previsores[:, 31])\n",
    "\n",
    "\n",
    "# para classe - aqui não costuma ser necessário\n",
    "'''labelencoder_classe = LabelEncoder()\n",
    "classe = labelencoder_classe.fit_transform(classe)'''\n",
    "\n",
    "pass"
   ]
  },
  {
   "cell_type": "code",
   "execution_count": 4,
   "metadata": {},
   "outputs": [],
   "source": [
    "# transformando variáveis categóricas em numéricas e tirando o peso dos valores após a transformação\n",
    "# através do OneHotEncoder\n",
    "\n",
    "column_tranformer = ColumnTransformer([('one_hot_encoder', OneHotEncoder(), [0, 1, 31])],remainder='passthrough')\n",
    "previsores = column_tranformer.fit_transform(previsores)\n",
    "\n",
    "# apenas para visualizar em forma de dataframe\n",
    "previsores_onehotencoder_df = pd.DataFrame(previsores)"
   ]
  },
  {
   "cell_type": "code",
   "execution_count": 4,
   "metadata": {},
   "outputs": [],
   "source": [
    "# fazendo escalonamento das variáveis (normalização) através do StandardScaler\n",
    "\n",
    "scaler = StandardScaler()\n",
    "previsores = scaler.fit_transform(previsores)\n",
    "\n",
    "# apenas para visualizar em forma de dataframe\n",
    "previsores_StandardScaler_df = pd.DataFrame(previsores)"
   ]
  },
  {
   "cell_type": "code",
   "execution_count": 7,
   "metadata": {},
   "outputs": [],
   "source": [
    "# chamando método para fazer treinamento e classificação com trinta testes\n",
    "# e validação cruzada usando StratifiedKFold\n",
    "# Decision Tree\n",
    "\n",
    "from sklearn.tree import DecisionTreeClassifier\n",
    "\n",
    "classificador = DecisionTreeClassifier()\n",
    "decision_tree = TrintaTestes(classificador, previsores, classe)"
   ]
  },
  {
   "cell_type": "code",
   "execution_count": 12,
   "metadata": {},
   "outputs": [
    {
     "name": "stdout",
     "output_type": "stream",
     "text": [
      "[0.52639857 0.54824416 0.5574939  0.55675758 0.54232311 0.52375828\n",
      " 0.54232311 0.53568752 0.54034507 0.54691094 0.54490241 0.52310474\n",
      " 0.55021785 0.53966103 0.52838097 0.55608226 0.53836267 0.54955995\n",
      " 0.54885849 0.54158679 0.54689352 0.53163559 0.53637591 0.52913907\n",
      " 0.53234141 0.54354305 0.51655629 0.53705995 0.523706   0.5495251 ]\n"
     ]
    }
   ],
   "source": [
    "print(decision_tree.acuracia())"
   ]
  },
  {
   "cell_type": "code",
   "execution_count": 13,
   "metadata": {},
   "outputs": [],
   "source": [
    "# chamando método para fazer treinamento e classificação com trinta testes\n",
    "# e validação cruzada usando StratifiedKFold\n",
    "# Gaussian Naive Bayes\n",
    "\n",
    "from sklearn.naive_bayes import GaussianNB\n",
    "\n",
    "classificador = GaussianNB()\n",
    "naive_bayes = TrintaTestes(classificador, previsores, classe)"
   ]
  },
  {
   "cell_type": "code",
   "execution_count": 16,
   "metadata": {},
   "outputs": [
    {
     "name": "stdout",
     "output_type": "stream",
     "text": [
      "[0.54752527 0.55821279 0.55143343 0.54813524 0.54226647 0.54756884\n",
      " 0.54358226 0.5521436  0.56269606 0.55346375 0.54620948 0.54552544\n",
      " 0.53766992 0.56408156 0.54495033 0.5488977  0.55013942 0.55879226\n",
      " 0.54831823 0.53827117 0.56274834 0.55939352 0.55547665 0.53506884\n",
      " 0.55082781 0.54828773 0.54755141 0.54427937 0.55154235 0.55218717]\n"
     ]
    }
   ],
   "source": [
    "print(naive_bayes.acuracia())"
   ]
  },
  {
   "cell_type": "code",
   "execution_count": 19,
   "metadata": {},
   "outputs": [],
   "source": [
    "# chamando método para fazer treinamento e classificação com trinta testes\n",
    "# e validação cruzada usando StratifiedKFold\n",
    "# ODDS\n",
    "\n",
    "from odds import OddsClassifier\n",
    "\n",
    "classificador = OddsClassifier() \n",
    "odds = TrintaTestes(classificador, previsores, classe)"
   ]
  },
  {
   "cell_type": "code",
   "execution_count": 20,
   "metadata": {},
   "outputs": [
    {
     "name": "stdout",
     "output_type": "stream",
     "text": [
      "0.5092471244336007\n"
     ]
    }
   ],
   "source": [
    "print(odds.acuracia().mean())"
   ]
  },
  {
   "cell_type": "code",
   "execution_count": 27,
   "metadata": {},
   "outputs": [],
   "source": [
    "# chamando método para fazer treinamento e classificação com trinta testes\n",
    "# e validação cruzada usando StratifiedKFold\n",
    "# KNN\n",
    "\n",
    "from sklearn.neighbors import KNeighborsClassifier\n",
    "\n",
    "classificador = KNeighborsClassifier(n_neighbors=5, metric='minkowski', p = 2)\n",
    "knn = TrintaTestes(classificador, previsores, classe)"
   ]
  },
  {
   "cell_type": "code",
   "execution_count": 28,
   "metadata": {},
   "outputs": [
    {
     "name": "stdout",
     "output_type": "stream",
     "text": [
      "0.5581711107238295\n"
     ]
    }
   ],
   "source": [
    "print(knn.acuracia().mean())"
   ]
  },
  {
   "cell_type": "code",
   "execution_count": null,
   "metadata": {},
   "outputs": [],
   "source": [
    "# chamando método para fazer treinamento e classificação com trinta testes\n",
    "# e validação cruzada usando StratifiedKFold\n",
    "# RNA\n",
    "\n",
    "from sklearn.neural_network import MLPClassifier\n",
    "\n",
    "classificador = MLPClassifier(verbose = True, max_iter = 1000,\n",
    "                      tol = 0.000010, solver='adam',\n",
    "                      hidden_layer_sizes=(100), activation = 'relu',\n",
    "                      batch_size=200, learning_rate_init=0.001)\n",
    "rna = TrintaTestes(classificador, previsores, classe)"
   ]
  },
  {
   "cell_type": "code",
   "execution_count": 14,
   "metadata": {},
   "outputs": [],
   "source": [
    "# chamando método para fazer treinamento e classificação com trinta testes\n",
    "# e validação cruzada usando StratifiedKFold\n",
    "# SVM\n",
    "\n",
    "from sklearn.svm import SVC\n",
    "\n",
    "classificador = SVC(kernel = 'rbf', random_state = 1, C = 2.0)\n",
    "svm = TrintaTestes(classificador, previsores, classe)"
   ]
  },
  {
   "cell_type": "code",
   "execution_count": 5,
   "metadata": {},
   "outputs": [],
   "source": [
    "# chamando método para fazer treinamento e classificação com trinta testes\n",
    "# e validação cruzada usando StratifiedKFold\n",
    "# Random Forest\n",
    "\n",
    "from sklearn.ensemble import RandomForestClassifier\n",
    "\n",
    "classificador = RandomForestClassifier(n_estimators=40, criterion='entropy', random_state=0)\n",
    "random_forest = TrintaTestes(classificador_random_forest, previsores, classe)"
   ]
  },
  {
   "cell_type": "code",
   "execution_count": 6,
   "metadata": {},
   "outputs": [
    {
     "name": "stdout",
     "output_type": "stream",
     "text": [
      "0.6384283141628907\n"
     ]
    }
   ],
   "source": [
    "print(random_forest.acuracia().mean())"
   ]
  },
  {
   "cell_type": "code",
   "execution_count": 59,
   "metadata": {
    "scrolled": false
   },
   "outputs": [
    {
     "name": "stdout",
     "output_type": "stream",
     "text": [
      "    importance\n",
      "58        0.06\n",
      "90        0.05\n",
      "88        0.05\n",
      "81        0.04\n",
      "56        0.04\n",
      "..         ...\n",
      "39        0.00\n",
      "33        0.00\n",
      "16        0.00\n",
      "5         0.00\n",
      "46        0.00\n",
      "\n",
      "[91 rows x 1 columns]\n"
     ]
    },
    {
     "data": {
      "text/plain": [
       "<matplotlib.axes._subplots.AxesSubplot at 0x1aaa5f34dc8>"
      ]
     },
     "execution_count": 59,
     "metadata": {},
     "output_type": "execute_result"
    },
    {
     "data": {
      "image/png": "[encoded data removed]",
      "text/plain": [
       "<Figure size 432x288 with 1 Axes>"
      ]
     },
     "metadata": {
      "needs_background": "light"
     },
     "output_type": "display_data"
    }
   ],
   "source": [
    "# VERIFICANDO ATRIBUTOS MAIS IMPORTANTES PARA O RANDOM FOREST\n",
    "\n",
    "# se a variável \"classificador\" for sobrescrita por outro algoritmo eu ainda garanto que aqui é objeto do Random Forest\n",
    "classificador = RandomForestClassifier(n_estimators=40, criterion='entropy', random_state=0)\n",
    "classificador.fit(previsores,classe)\n",
    "\n",
    "# imprimindo valores de importância independente da ordem e sem dar nomes aos atributos\n",
    "#print(classificador.feature_importances_)\n",
    "\n",
    "# imprimindo valores dando nome aos atributos e em ordem \n",
    "previsores_df = pd.DataFrame(previsores)\n",
    "columns_ = previsores_df.iloc[:, 0:91].columns\n",
    "caracteristicas_importantes = pd.DataFrame(classificador_random_forest.feature_importances_,\n",
    "                                            index = columns_,\n",
    "                                            columns = ['importance']).sort_values('importance', ascending = False)\n",
    "print(caracteristicas_importantes)\n",
    "\n",
    "# imprimindo valores com nome dos atributos, em ordem e através de gráfico em barras\n",
    "caracateristicas_importantes.plot(kind='bar')"
   ]
  },
  {
   "cell_type": "code",
   "execution_count": 65,
   "metadata": {},
   "outputs": [
    {
     "data": {
      "text/html": [
       "<div>\n",
       "<style scoped>\n",
       "    .dataframe tbody tr th:only-of-type {\n",
       "        vertical-align: middle;\n",
       "    }\n",
       "\n",
       "    .dataframe tbody tr th {\n",
       "        vertical-align: top;\n",
       "    }\n",
       "\n",
       "    .dataframe thead th {\n",
       "        text-align: right;\n",
       "    }\n",
       "</style>\n",
       "<table border=\"1\" class=\"dataframe\">\n",
       "  <thead>\n",
       "    <tr style=\"text-align: right;\">\n",
       "      <th></th>\n",
       "      <th>Random Forest</th>\n",
       "      <th>SVM</th>\n",
       "      <th>KNN</th>\n",
       "      <th>Naive Bayes</th>\n",
       "      <th>Árvore de Decisão</th>\n",
       "    </tr>\n",
       "  </thead>\n",
       "  <tbody>\n",
       "    <tr>\n",
       "      <td>0</td>\n",
       "      <td>0.640724</td>\n",
       "      <td>0.626176</td>\n",
       "      <td>0.552178</td>\n",
       "      <td>0.547525</td>\n",
       "      <td>0.526399</td>\n",
       "    </tr>\n",
       "    <tr>\n",
       "      <td>1</td>\n",
       "      <td>0.639478</td>\n",
       "      <td>0.628224</td>\n",
       "      <td>0.562818</td>\n",
       "      <td>0.558213</td>\n",
       "      <td>0.548244</td>\n",
       "    </tr>\n",
       "    <tr>\n",
       "      <td>2</td>\n",
       "      <td>0.643286</td>\n",
       "      <td>0.626751</td>\n",
       "      <td>0.562003</td>\n",
       "      <td>0.551433</td>\n",
       "      <td>0.557494</td>\n",
       "    </tr>\n",
       "    <tr>\n",
       "      <td>3</td>\n",
       "      <td>0.628128</td>\n",
       "      <td>0.634089</td>\n",
       "      <td>0.556775</td>\n",
       "      <td>0.548135</td>\n",
       "      <td>0.556758</td>\n",
       "    </tr>\n",
       "    <tr>\n",
       "      <td>4</td>\n",
       "      <td>0.640650</td>\n",
       "      <td>0.628102</td>\n",
       "      <td>0.566068</td>\n",
       "      <td>0.542266</td>\n",
       "      <td>0.542323</td>\n",
       "    </tr>\n",
       "    <tr>\n",
       "      <td>5</td>\n",
       "      <td>0.636084</td>\n",
       "      <td>0.627514</td>\n",
       "      <td>0.564068</td>\n",
       "      <td>0.547569</td>\n",
       "      <td>0.523758</td>\n",
       "    </tr>\n",
       "    <tr>\n",
       "      <td>6</td>\n",
       "      <td>0.649277</td>\n",
       "      <td>0.618238</td>\n",
       "      <td>0.558775</td>\n",
       "      <td>0.543582</td>\n",
       "      <td>0.542323</td>\n",
       "    </tr>\n",
       "    <tr>\n",
       "      <td>7</td>\n",
       "      <td>0.639286</td>\n",
       "      <td>0.624163</td>\n",
       "      <td>0.556731</td>\n",
       "      <td>0.552144</td>\n",
       "      <td>0.535688</td>\n",
       "    </tr>\n",
       "    <tr>\n",
       "      <td>8</td>\n",
       "      <td>0.645403</td>\n",
       "      <td>0.632137</td>\n",
       "      <td>0.556836</td>\n",
       "      <td>0.562696</td>\n",
       "      <td>0.540345</td>\n",
       "    </tr>\n",
       "    <tr>\n",
       "      <td>9</td>\n",
       "      <td>0.640027</td>\n",
       "      <td>0.624778</td>\n",
       "      <td>0.563406</td>\n",
       "      <td>0.553464</td>\n",
       "      <td>0.546911</td>\n",
       "    </tr>\n",
       "    <tr>\n",
       "      <td>10</td>\n",
       "      <td>0.637382</td>\n",
       "      <td>0.626172</td>\n",
       "      <td>0.554797</td>\n",
       "      <td>0.546209</td>\n",
       "      <td>0.544902</td>\n",
       "    </tr>\n",
       "    <tr>\n",
       "      <td>11</td>\n",
       "      <td>0.645965</td>\n",
       "      <td>0.628791</td>\n",
       "      <td>0.554814</td>\n",
       "      <td>0.545525</td>\n",
       "      <td>0.523105</td>\n",
       "    </tr>\n",
       "    <tr>\n",
       "      <td>12</td>\n",
       "      <td>0.636088</td>\n",
       "      <td>0.630847</td>\n",
       "      <td>0.564748</td>\n",
       "      <td>0.537670</td>\n",
       "      <td>0.550218</td>\n",
       "    </tr>\n",
       "    <tr>\n",
       "      <td>13</td>\n",
       "      <td>0.635426</td>\n",
       "      <td>0.629488</td>\n",
       "      <td>0.560792</td>\n",
       "      <td>0.564082</td>\n",
       "      <td>0.539661</td>\n",
       "    </tr>\n",
       "    <tr>\n",
       "      <td>14</td>\n",
       "      <td>0.637369</td>\n",
       "      <td>0.622155</td>\n",
       "      <td>0.549512</td>\n",
       "      <td>0.544950</td>\n",
       "      <td>0.528381</td>\n",
       "    </tr>\n",
       "    <tr>\n",
       "      <td>15</td>\n",
       "      <td>0.631440</td>\n",
       "      <td>0.628786</td>\n",
       "      <td>0.555498</td>\n",
       "      <td>0.548898</td>\n",
       "      <td>0.556082</td>\n",
       "    </tr>\n",
       "    <tr>\n",
       "      <td>16</td>\n",
       "      <td>0.637361</td>\n",
       "      <td>0.630111</td>\n",
       "      <td>0.560753</td>\n",
       "      <td>0.550139</td>\n",
       "      <td>0.538363</td>\n",
       "    </tr>\n",
       "    <tr>\n",
       "      <td>17</td>\n",
       "      <td>0.642049</td>\n",
       "      <td>0.632063</td>\n",
       "      <td>0.554178</td>\n",
       "      <td>0.558792</td>\n",
       "      <td>0.549560</td>\n",
       "    </tr>\n",
       "    <tr>\n",
       "      <td>18</td>\n",
       "      <td>0.643369</td>\n",
       "      <td>0.627518</td>\n",
       "      <td>0.568051</td>\n",
       "      <td>0.548318</td>\n",
       "      <td>0.548858</td>\n",
       "    </tr>\n",
       "    <tr>\n",
       "      <td>19</td>\n",
       "      <td>0.643299</td>\n",
       "      <td>0.626137</td>\n",
       "      <td>0.548872</td>\n",
       "      <td>0.538271</td>\n",
       "      <td>0.541587</td>\n",
       "    </tr>\n",
       "    <tr>\n",
       "      <td>20</td>\n",
       "      <td>0.637378</td>\n",
       "      <td>0.624203</td>\n",
       "      <td>0.565397</td>\n",
       "      <td>0.562748</td>\n",
       "      <td>0.546894</td>\n",
       "    </tr>\n",
       "    <tr>\n",
       "      <td>21</td>\n",
       "      <td>0.642589</td>\n",
       "      <td>0.632019</td>\n",
       "      <td>0.557381</td>\n",
       "      <td>0.559394</td>\n",
       "      <td>0.531636</td>\n",
       "    </tr>\n",
       "    <tr>\n",
       "      <td>22</td>\n",
       "      <td>0.633422</td>\n",
       "      <td>0.624874</td>\n",
       "      <td>0.552884</td>\n",
       "      <td>0.555477</td>\n",
       "      <td>0.536376</td>\n",
       "    </tr>\n",
       "    <tr>\n",
       "      <td>23</td>\n",
       "      <td>0.632812</td>\n",
       "      <td>0.630111</td>\n",
       "      <td>0.559498</td>\n",
       "      <td>0.535069</td>\n",
       "      <td>0.529139</td>\n",
       "    </tr>\n",
       "    <tr>\n",
       "      <td>24</td>\n",
       "      <td>0.640606</td>\n",
       "      <td>0.626782</td>\n",
       "      <td>0.558731</td>\n",
       "      <td>0.550828</td>\n",
       "      <td>0.532341</td>\n",
       "    </tr>\n",
       "    <tr>\n",
       "      <td>25</td>\n",
       "      <td>0.632760</td>\n",
       "      <td>0.628141</td>\n",
       "      <td>0.556823</td>\n",
       "      <td>0.548288</td>\n",
       "      <td>0.543543</td>\n",
       "    </tr>\n",
       "    <tr>\n",
       "      <td>26</td>\n",
       "      <td>0.640049</td>\n",
       "      <td>0.636067</td>\n",
       "      <td>0.559463</td>\n",
       "      <td>0.547551</td>\n",
       "      <td>0.516556</td>\n",
       "    </tr>\n",
       "    <tr>\n",
       "      <td>27</td>\n",
       "      <td>0.637404</td>\n",
       "      <td>0.625518</td>\n",
       "      <td>0.548919</td>\n",
       "      <td>0.544279</td>\n",
       "      <td>0.537060</td>\n",
       "    </tr>\n",
       "    <tr>\n",
       "      <td>28</td>\n",
       "      <td>0.650601</td>\n",
       "      <td>0.624172</td>\n",
       "      <td>0.556209</td>\n",
       "      <td>0.551542</td>\n",
       "      <td>0.523706</td>\n",
       "    </tr>\n",
       "    <tr>\n",
       "      <td>29</td>\n",
       "      <td>0.631453</td>\n",
       "      <td>0.622891</td>\n",
       "      <td>0.558152</td>\n",
       "      <td>0.552187</td>\n",
       "      <td>0.549525</td>\n",
       "    </tr>\n",
       "  </tbody>\n",
       "</table>\n",
       "</div>"
      ],
      "text/plain": [
       "    Random Forest       SVM       KNN  Naive Bayes  Árvore de Decisão\n",
       "0        0.640724  0.626176  0.552178     0.547525           0.526399\n",
       "1        0.639478  0.628224  0.562818     0.558213           0.548244\n",
       "2        0.643286  0.626751  0.562003     0.551433           0.557494\n",
       "3        0.628128  0.634089  0.556775     0.548135           0.556758\n",
       "4        0.640650  0.628102  0.566068     0.542266           0.542323\n",
       "5        0.636084  0.627514  0.564068     0.547569           0.523758\n",
       "6        0.649277  0.618238  0.558775     0.543582           0.542323\n",
       "7        0.639286  0.624163  0.556731     0.552144           0.535688\n",
       "8        0.645403  0.632137  0.556836     0.562696           0.540345\n",
       "9        0.640027  0.624778  0.563406     0.553464           0.546911\n",
       "10       0.637382  0.626172  0.554797     0.546209           0.544902\n",
       "11       0.645965  0.628791  0.554814     0.545525           0.523105\n",
       "12       0.636088  0.630847  0.564748     0.537670           0.550218\n",
       "13       0.635426  0.629488  0.560792     0.564082           0.539661\n",
       "14       0.637369  0.622155  0.549512     0.544950           0.528381\n",
       "15       0.631440  0.628786  0.555498     0.548898           0.556082\n",
       "16       0.637361  0.630111  0.560753     0.550139           0.538363\n",
       "17       0.642049  0.632063  0.554178     0.558792           0.549560\n",
       "18       0.643369  0.627518  0.568051     0.548318           0.548858\n",
       "19       0.643299  0.626137  0.548872     0.538271           0.541587\n",
       "20       0.637378  0.624203  0.565397     0.562748           0.546894\n",
       "21       0.642589  0.632019  0.557381     0.559394           0.531636\n",
       "22       0.633422  0.624874  0.552884     0.555477           0.536376\n",
       "23       0.632812  0.630111  0.559498     0.535069           0.529139\n",
       "24       0.640606  0.626782  0.558731     0.550828           0.532341\n",
       "25       0.632760  0.628141  0.556823     0.548288           0.543543\n",
       "26       0.640049  0.636067  0.559463     0.547551           0.516556\n",
       "27       0.637404  0.625518  0.548919     0.544279           0.537060\n",
       "28       0.650601  0.624172  0.556209     0.551542           0.523706\n",
       "29       0.631453  0.622891  0.558152     0.552187           0.549525"
      ]
     },
     "metadata": {},
     "output_type": "display_data"
    }
   ],
   "source": [
    "# Acurácia de trinta testes para cada algoritmo abaixo\n",
    "random_forest_df = pd.DataFrame(random_forest.acuracia()).rename(columns={0:'Random Forest'})\n",
    "svm_df = pd.DataFrame(svm.acuracia()).rename(columns={0:'SVM'})\n",
    "knn_df = pd.DataFrame(knn.acuracia()).rename(columns={0:'KNN'})\n",
    "naive_bayes_df = pd.DataFrame(naive_bayes.acuracia()).rename(columns={0:'Naive Bayes'})\n",
    "decision_tree_df = pd.DataFrame(decision_tree.acuracia()).rename(columns={0:'Árvore de Decisão'})\n",
    "\n",
    "# juntando todos os dataframes acima em um só \n",
    "algoritmos_boxplot_df = pd.concat([random_forest_df,svm_df,knn_df,naive_bayes_df,decision_tree_df], axis=1, join='inner')\n",
    "\n",
    "display(algoritmos_boxplot_df)"
   ]
  },
  {
   "cell_type": "code",
   "execution_count": 110,
   "metadata": {},
   "outputs": [
    {
     "data": {
      "image/png": "[encoded data removed]",
      "text/plain": [
       "<Figure size 800x500 with 1 Axes>"
      ]
     },
     "metadata": {},
     "output_type": "display_data"
    }
   ],
   "source": [
    "# BOXPLOT DOS RESULTADOS \n",
    "\n",
    "random_forest.acuracia()\n",
    "decision_tree.acuracia()\n",
    "svm.acuracia()\n",
    "naive_bayes.acuracia()\n",
    "knn.acuracia()\n",
    "\n",
    "fig = plt.figure(figsize=(8,5))\n",
    "algoritmos_boxplot_df.boxplot(column=['Random Forest','SVM','KNN','Naive Bayes','Árvore de Decisão'])\n",
    "plt.title('Algoritmos de Machine Learning')\n",
    "plt.ylabel('Acurácia', fontsize=12, color='black')\n",
    "plt.show()"
   ]
  }
 ],
 "metadata": {
  "kernelspec": {
   "display_name": "Python 3",
   "language": "python",
   "name": "python3"
  },
  "language_info": {
   "codemirror_mode": {
    "name": "ipython",
    "version": 3
   },
   "file_extension": ".py",
   "mimetype": "text/x-python",
   "name": "python",
   "nbconvert_exporter": "python",
   "pygments_lexer": "ipython3",
   "version": "3.7.4"
  }
 },
 "nbformat": 4,
 "nbformat_minor": 2
}
