{
 "cells": [
  {
   "cell_type": "code",
   "execution_count": 1,
   "metadata": {},
   "outputs": [],
   "source": [
    "import pandas as pd\n",
    "import numpy as np\n",
    "from sklearn.feature_selection import SelectFromModel\n",
    "from sklearn.preprocessing import OneHotEncoder\n",
    "from sklearn.compose import ColumnTransformer\n",
    "from sklearn.preprocessing import LabelEncoder\n",
    "from sklearn.preprocessing import StandardScaler\n",
    "from trinta_testes_validacao_cruzada import TrintaTestes\n",
    "from sklearn import metrics\n",
    "from sklearn.metrics import f1_score\n",
    "from sklearn.metrics import accuracy_score, confusion_matrix\n",
    "import itertools\n",
    "import matplotlib\n",
    "import matplotlib.pyplot as plt\n",
    "import seaborn as sns\n",
    "import warnings\n",
    "import display_function\n",
    "\n",
    "%matplotlib inline\n",
    "matplotlib.style.use('default')\n",
    "plt.rcParams['figure.figsize'] = [6, 4]\n",
    "warnings.filterwarnings('ignore')\n",
    "pd.options.display.float_format = '{:,.2f}'.format"
   ]
  },
  {
   "cell_type": "code",
   "execution_count": 2,
   "metadata": {},
   "outputs": [],
   "source": [
    "# Funções para plotagem da matriz de confusão\n",
    "\n",
    "def plot_confusion_matrix_git(conf_matrix, classes=None,\n",
    "                          normalize=False,\n",
    "                          title='Confusion matrix',\n",
    "                          cmap=plt.cm.Blues):\n",
    "    \"\"\"\n",
    "    This function prints and plots the confusion matrix.\n",
    "    Normalization can be applied by setting `normalize=True`.\n",
    "    \"\"\"\n",
    "    if normalize:\n",
    "        conf_matrix = conf_matrix.astype('float') / conf_matrix.sum(axis=1)[:, np.newaxis]\n",
    "    plt.imshow(conf_matrix, interpolation='nearest', cmap=cmap)\n",
    "    plt.title(title)\n",
    "    plt.colorbar()\n",
    "    if classes:\n",
    "        tick_marks = np.arange(len(classes))\n",
    "        plt.xticks(tick_marks, classes, rotation=45)\n",
    "        plt.yticks(tick_marks, classes)\n",
    "\n",
    "    fmt = '.2f' if normalize else 'd'\n",
    "    thresh = conf_matrix.max() / 2.\n",
    "    for i, j in itertools.product(range(conf_matrix.shape[0]), range(conf_matrix.shape[1])):\n",
    "        plt.text(j, i, format(conf_matrix[i, j], fmt),\n",
    "                 horizontalalignment=\"center\",\n",
    "                 color=\"white\" if conf_matrix[i, j] > thresh else \"black\")\n",
    "\n",
    "    plt.ylabel('True label')\n",
    "    plt.xlabel('Predicted label')\n",
    "    plt.tight_layout()\n",
    "    plt.show()\n",
    "    plt.clf()\n",
    "    plt.cla()\n",
    "    plt.close()\n",
    "\n",
    "def calculo_matriz_confusao(cnf_matrix, classes_):\n",
    "    np.set_printoptions(precision=2)\n",
    "\n",
    "    # Plot non-normalized confusion matrix\n",
    "    plt.figure()\n",
    "    if classes_:\n",
    "        plot_confusion_matrix_git(cnf_matrix, classes=classes_,\n",
    "                      title='Confusion matrix, without normalization')\n",
    "    else:\n",
    "        plot_confusion_matrix_git(cnf_matrix,\n",
    "                      title='Confusion matrix, without normalization')\n",
    "        \n",
    "    # Plot normalized confusion matrix\n",
    "    plt.figure()\n",
    "    if classes_:\n",
    "        plot_confusion_matrix_git(cnf_matrix, classes=classes_, normalize=True,\n",
    "                      title='Normalized confusion matrix')\n",
    "    else:\n",
    "        plot_confusion_matrix_git(cnf_matrix, normalize=True,\n",
    "                      title='Normalized confusion matrix')"
   ]
  },
  {
   "cell_type": "code",
   "execution_count": 3,
   "metadata": {},
   "outputs": [],
   "source": [
    "def plot_confusion_matrix(cm,\n",
    "                          target_names,\n",
    "                          title='Confusion matrix',\n",
    "                          cmap=None,\n",
    "                          normalize=True):\n",
    "    \"\"\"\n",
    "    given a sklearn confusion matrix (cm), make a Nice plot\n",
    "\n",
    "    Arguments\n",
    "    ---------\n",
    "    cm:           confusion matrix from sklearn.metrics.confusion_matrix\n",
    "\n",
    "    target_names: given classification classes such as [0, 1, 2]\n",
    "                  the class names, for example: ['high', 'medium', 'low']\n",
    "\n",
    "    title:        the text to display at the top of the matrix\n",
    "\n",
    "    cmap:         the gradient of the values displayed from matplotlib.pyplot.cm\n",
    "                  see http://matplotlib.org/examples/color/colormaps_reference.html\n",
    "                  plt.get_cmap('jet') or plt.cm.Blues\n",
    "\n",
    "    normalize:    If False, plot the raw numbers\n",
    "                  If True, plot the proportions\n",
    "\n",
    "    Usage\n",
    "    -----\n",
    "    plot_confusion_matrix(cm           = cm,                  # confusion matrix created by\n",
    "                                                              # sklearn.metrics.confusion_matrix\n",
    "                          normalize    = True,                # show proportions\n",
    "                          target_names = y_labels_vals,       # list of names of the classes\n",
    "                          title        = best_estimator_name) # title of graph\n",
    "\n",
    "    Citiation\n",
    "    ---------\n",
    "    http://scikit-learn.org/stable/auto_examples/model_selection/plot_confusion_matrix.html\n",
    "\n",
    "    \"\"\"\n",
    "    import matplotlib.pyplot as plt\n",
    "    import numpy as np\n",
    "    import itertools\n",
    "\n",
    "    accuracy = np.trace(cm) / float(np.sum(cm))\n",
    "    misclass = 1 - accuracy\n",
    "\n",
    "    if cmap is None:\n",
    "        cmap = plt.get_cmap('Blues')\n",
    "\n",
    "    plt.figure(figsize=(8, 6))\n",
    "    plt.imshow(cm, interpolation='nearest', cmap=cmap)\n",
    "    plt.title(title)\n",
    "    plt.colorbar()\n",
    "\n",
    "    if target_names is not None:\n",
    "        tick_marks = np.arange(len(target_names))\n",
    "        plt.xticks(tick_marks, target_names, rotation=45)\n",
    "        plt.yticks(tick_marks, target_names)\n",
    "\n",
    "    if normalize:\n",
    "        cm = cm.astype('float') / cm.sum(axis=1)[:, np.newaxis]\n",
    "\n",
    "\n",
    "    thresh = cm.max() / 1.5 if normalize else cm.max() / 2\n",
    "    for i, j in itertools.product(range(cm.shape[0]), range(cm.shape[1])):\n",
    "        if normalize:\n",
    "            plt.text(j, i, \"{:0.4f}\".format(cm[i, j]),\n",
    "                     horizontalalignment=\"center\",\n",
    "                     color=\"white\" if cm[i, j] > thresh else \"black\")\n",
    "        else:\n",
    "            plt.text(j, i, \"{:,}\".format(cm[i, j]),\n",
    "                     horizontalalignment=\"center\",\n",
    "                     color=\"white\" if cm[i, j] > thresh else \"black\")\n",
    "\n",
    "\n",
    "    plt.tight_layout()\n",
    "    plt.ylabel('True label')\n",
    "    plt.xlabel('Predicted label\\naccuracy={:0.4f}; misclass={:0.4f}'.format(accuracy, misclass))\n",
    "    plt.show()"
   ]
  },
  {
   "cell_type": "code",
   "execution_count": 4,
   "metadata": {},
   "outputs": [],
   "source": [
    "# Separação da base em previsores e classe\n",
    "\n",
    "base = pd.read_csv('dados_meio_tempo_com_odds.csv').drop(['Unnamed: 0'], axis=1).sample(frac=1).reset_index(drop=True)\n",
    "\n",
    "previsores = base.iloc[:, 0:35].values\n",
    "classe = base.iloc[:, 35].values\n",
    "\n",
    "classes_alvo = ['Visitante', 'Empate', 'Mandante']\n",
    "\n",
    "# apenas para visualizar em forma de dataframe\n",
    "classe_df = pd.DataFrame(classe)\n",
    "previsores_df = pd.DataFrame(previsores)"
   ]
  },
  {
   "cell_type": "markdown",
   "metadata": {},
   "source": [
    "## Pré-processamento dos dados"
   ]
  },
  {
   "cell_type": "code",
   "execution_count": 5,
   "metadata": {},
   "outputs": [],
   "source": [
    "# transformando variáveis categóricas em numéricas usando o LabelEncoder\n",
    "\n",
    "# para previsores\n",
    "labelencoder_X = LabelEncoder()\n",
    "previsores[:, 0] = labelencoder_X.fit_transform(previsores[:, 0])\n",
    "previsores[:, 1] = labelencoder_X.fit_transform(previsores[:, 1])\n",
    "previsores[:, 31] = labelencoder_X.fit_transform(previsores[:, 31])\n",
    "\n",
    "\n",
    "# para classe LabelEncoder não costuma ser necessário\n",
    "'''labelencoder_classe = LabelEncoder()\n",
    "classe = labelencoder_classe.fit_transform(classe)'''\n",
    "\n",
    "pass"
   ]
  },
  {
   "cell_type": "code",
   "execution_count": null,
   "metadata": {},
   "outputs": [],
   "source": [
    "# transformando variáveis categóricas em numéricas e tirando o peso dos valores após a transformação\n",
    "# através do OneHotEncoder\n",
    "\n",
    "column_tranformer = ColumnTransformer([('one_hot_encoder', OneHotEncoder(), [0, 1, 31])],remainder='passthrough')\n",
    "previsores = column_tranformer.fit_transform(previsores)\n",
    "\n",
    "# apenas para visualizar em forma de dataframe\n",
    "previsores_onehotencoder_df = pd.DataFrame(previsores)"
   ]
  },
  {
   "cell_type": "code",
   "execution_count": null,
   "metadata": {},
   "outputs": [],
   "source": [
    "# fazendo escalonamento das variáveis (normalização) através do StandardScaler\n",
    "\n",
    "scaler = StandardScaler()\n",
    "previsores = scaler.fit_transform(previsores)\n",
    "\n",
    "# apenas para visualizar em forma de dataframe\n",
    "previsores_StandardScaler_df = pd.DataFrame(previsores)"
   ]
  },
  {
   "cell_type": "code",
   "execution_count": null,
   "metadata": {},
   "outputs": [],
   "source": [
    "# chamando método para fazer treinamento e classificação com trinta testes\n",
    "# e validação cruzada usando StratifiedKFold\n",
    "# Decision Tree\n",
    "\n",
    "from sklearn.tree import DecisionTreeClassifier\n",
    "\n",
    "classificador = DecisionTreeClassifier()\n",
    "decision_tree = TrintaTestes(classificador, previsores, classe)"
   ]
  },
  {
   "cell_type": "code",
   "execution_count": null,
   "metadata": {},
   "outputs": [],
   "source": [
    "print(decision_tree.acuracia())"
   ]
  },
  {
   "cell_type": "code",
   "execution_count": null,
   "metadata": {},
   "outputs": [],
   "source": [
    "# chamando método para fazer treinamento e classificação com trinta testes\n",
    "# e validação cruzada usando StratifiedKFold\n",
    "# Gaussian Naive Bayes\n",
    "\n",
    "from sklearn.naive_bayes import GaussianNB\n",
    "\n",
    "classificador = GaussianNB()\n",
    "naive_bayes = TrintaTestes(classificador, previsores, classe)"
   ]
  },
  {
   "cell_type": "code",
   "execution_count": null,
   "metadata": {},
   "outputs": [],
   "source": [
    "print(naive_bayes.acuracia())"
   ]
  },
  {
   "cell_type": "code",
   "execution_count": null,
   "metadata": {},
   "outputs": [],
   "source": [
    "# chamando método para fazer treinamento e classificação com trinta testes\n",
    "# e validação cruzada usando StratifiedKFold\n",
    "# ODDS\n",
    "\n",
    "from odds import OddsClassifier\n",
    "\n",
    "classificador = OddsClassifier() \n",
    "odds = TrintaTestes(classificador, previsores, classe)"
   ]
  },
  {
   "cell_type": "code",
   "execution_count": null,
   "metadata": {},
   "outputs": [],
   "source": [
    "print(odds.acuracia().mean())"
   ]
  },
  {
   "cell_type": "code",
   "execution_count": 6,
   "metadata": {},
   "outputs": [
    {
     "name": "stdout",
     "output_type": "stream",
     "text": [
      "[[1 2 3]\n",
      " [4 5 6]\n",
      " [7 8 9]]\n"
     ]
    }
   ],
   "source": [
    "r = [[1, 2, 3],\n",
    "     [4, 5, 6],\n",
    "     [7, 8, 9]]\n",
    "r = np.asarray(r)\n",
    "print(r)"
   ]
  },
  {
   "cell_type": "code",
   "execution_count": 7,
   "metadata": {},
   "outputs": [],
   "source": [
    "def apagarmatriz(cm,\n",
    "                 target_names,\n",
    "                 title='Matriz de Confusão',\n",
    "                 cmap=None,\n",
    "                 normalize=False):\n",
    "    \n",
    "    import matplotlib.pyplot as plt\n",
    "    import numpy as np\n",
    "    import itertools\n",
    "\n",
    "    accuracy = np.trace(cm) / np.sum(cm).astype('float')\n",
    "    misclass = 1 - accuracy\n",
    "\n",
    "    if cmap is None:\n",
    "        cmap = plt.get_cmap('Blues')\n",
    "\n",
    "    #plt.figure(figsize=(8, 6))\n",
    "    plt.imshow(cm, interpolation='nearest', cmap=cmap)\n",
    "    plt.title(title)\n",
    "    plt.colorbar()\n",
    "\n",
    "    if target_names is not None:\n",
    "        tick_marks = np.arange(len(target_names))\n",
    "        plt.xticks(tick_marks, target_names, rotation=45)\n",
    "        plt.yticks(tick_marks, target_names)\n",
    "\n",
    "    if normalize:\n",
    "        cm = cm.astype('float') / cm.sum(axis=1)[:, np.newaxis]\n",
    "\n",
    "\n",
    "    thresh = cm.max() / 1.5 if normalize else cm.max() / 2\n",
    "    for i, j in itertools.product(range(cm.shape[0]), range(cm.shape[1])):\n",
    "        if normalize:\n",
    "            plt.text(j, i, \"{:0.4f}\".format(cm[i, j]),\n",
    "                     horizontalalignment=\"center\",\n",
    "                     color=\"white\" if cm[i, j] > thresh else \"black\")\n",
    "        else:\n",
    "            plt.text(j, i, \"{:,}\".format(cm[i, j]),\n",
    "                     horizontalalignment=\"center\",\n",
    "                     color=\"white\" if cm[i, j] > thresh else \"black\")\n",
    "\n",
    "\n",
    "    plt.tight_layout()\n",
    "    plt.ylabel('True label')\n",
    "    plt.xlabel('Predicted label\\naccuracy={:0.4f}; misclass={:0.4f}'.format(accuracy, misclass))\n",
    "    plt.show()"
   ]
  },
  {
   "cell_type": "code",
   "execution_count": 8,
   "metadata": {},
   "outputs": [
    {
     "data": {
      "image/png": "[encoded data removed]",
      "text/plain": [
       "<Figure size 432x288 with 2 Axes>"
      ]
     },
     "metadata": {
      "needs_background": "light"
     },
     "output_type": "display_data"
    }
   ],
   "source": [
    "#plot_confusion_matrix_git(r, classes_alvo)\n",
    "apagarmatriz(r, classes_alvo)"
   ]
  },
  {
   "cell_type": "code",
   "execution_count": null,
   "metadata": {},
   "outputs": [],
   "source": [
    "array = [[13,1,1,0,2,0],\n",
    "     [3,9,6,0,1,0],\n",
    "     [0,0,16,2,0,0],\n",
    "     [0,0,0,13,0,0],\n",
    "     [0,0,0,0,15,0],\n",
    "     [0,0,1,0,0,15]]        \n",
    "df_cm = pd.DataFrame(array, range(6),\n",
    "                  range(6))\n",
    "plt.figure(figsize = (6,4))\n",
    "sns.set(font_scale=1.4)#for label size\n",
    "sns.heatmap(df_cm, annot=True,annot_kws={\"size\": 16})# font size"
   ]
  },
  {
   "cell_type": "code",
   "execution_count": null,
   "metadata": {},
   "outputs": [],
   "source": [
    "print(type(array))"
   ]
  },
  {
   "cell_type": "code",
   "execution_count": null,
   "metadata": {},
   "outputs": [],
   "source": [
    "# chamando método para fazer treinamento e classificação com trinta testes\n",
    "# e validação cruzada usando StratifiedKFold\n",
    "# KNN\n",
    "\n",
    "from sklearn.neighbors import KNeighborsClassifier\n",
    "\n",
    "classificador = KNeighborsClassifier(n_neighbors=5, metric='minkowski', p = 2)\n",
    "knn = TrintaTestes(classificador, previsores, classe)"
   ]
  },
  {
   "cell_type": "code",
   "execution_count": null,
   "metadata": {},
   "outputs": [],
   "source": [
    "print(knn.acuracia().mean())"
   ]
  },
  {
   "cell_type": "code",
   "execution_count": null,
   "metadata": {},
   "outputs": [],
   "source": [
    "# chamando método para fazer treinamento e classificação com trinta testes\n",
    "# e validação cruzada usando StratifiedKFold\n",
    "# RNA\n",
    "\n",
    "from sklearn.neural_network import MLPClassifier\n",
    "\n",
    "classificador = MLPClassifier(verbose = True, max_iter = 1000,\n",
    "                      tol = 0.000010, solver='adam',\n",
    "                      hidden_layer_sizes=(100), activation = 'relu',\n",
    "                      batch_size=200, learning_rate_init=0.001)\n",
    "rna = TrintaTestes(classificador, previsores, classe)"
   ]
  },
  {
   "cell_type": "code",
   "execution_count": null,
   "metadata": {},
   "outputs": [],
   "source": [
    "# chamando método para fazer treinamento e classificação com trinta testes\n",
    "# e validação cruzada usando StratifiedKFold\n",
    "# SVM\n",
    "\n",
    "from sklearn.svm import SVC\n",
    "\n",
    "classificador = SVC(kernel = 'rbf', random_state = 1, C = 2.0)\n",
    "svm = TrintaTestes(classificador, previsores, classe)"
   ]
  },
  {
   "cell_type": "code",
   "execution_count": null,
   "metadata": {},
   "outputs": [],
   "source": [
    "# chamando método para fazer treinamento e classificação com trinta testes\n",
    "# e validação cruzada usando StratifiedKFold\n",
    "# Random Forest\n",
    "\n",
    "from sklearn.ensemble import RandomForestClassifier\n",
    "\n",
    "classificador = RandomForestClassifier(n_estimators=40, criterion='entropy', random_state=0)\n",
    "random_forest = TrintaTestes(classificador, previsores, classe)"
   ]
  },
  {
   "cell_type": "code",
   "execution_count": null,
   "metadata": {},
   "outputs": [],
   "source": [
    "print(random_forest.acuracia().mean())"
   ]
  },
  {
   "cell_type": "code",
   "execution_count": null,
   "metadata": {
    "scrolled": false
   },
   "outputs": [],
   "source": [
    "# VERIFICANDO ATRIBUTOS MAIS IMPORTANTES PARA O RANDOM FOREST\n",
    "\n",
    "# se a variável \"classificador\" for sobrescrita por outro algoritmo eu ainda garanto que aqui é objeto do Random Forest\n",
    "classificador = RandomForestClassifier(n_estimators=40, criterion='entropy', random_state=0)\n",
    "classificador.fit(previsores,classe)\n",
    "\n",
    "# imprimindo valores de importância independente da ordem e sem dar nomes aos atributos\n",
    "#print(classificador.feature_importances_)\n",
    "\n",
    "# imprimindo valores dando nome aos atributos e em ordem \n",
    "previsores_df = pd.DataFrame(previsores)\n",
    "columns_ = base.iloc[:, 0:35].columns\n",
    "caracteristicas_importantes = pd.DataFrame(classificador.feature_importances_,\n",
    "                                            index = columns_,\n",
    "                                            columns = ['importance']).sort_values('importance', ascending = False)\n",
    "print(caracteristicas_importantes)\n",
    "\n",
    "# imprimindo valores com nome dos atributos, em ordem e através de gráfico em barras\n",
    "caracteristicas_importantes.plot(kind='bar')"
   ]
  },
  {
   "cell_type": "code",
   "execution_count": null,
   "metadata": {},
   "outputs": [],
   "source": [
    "# Acurácia de trinta testes para cada algoritmo abaixo\n",
    "random_forest_df = pd.DataFrame(random_forest.acuracia()).rename(columns={0:'Random Forest'})\n",
    "svm_df = pd.DataFrame(svm.acuracia()).rename(columns={0:'SVM'})\n",
    "knn_df = pd.DataFrame(knn.acuracia()).rename(columns={0:'KNN'})\n",
    "naive_bayes_df = pd.DataFrame(naive_bayes.acuracia()).rename(columns={0:'Naive Bayes'})\n",
    "decision_tree_df = pd.DataFrame(decision_tree.acuracia()).rename(columns={0:'Árvore de Decisão'})\n",
    "\n",
    "# juntando todos os dataframes acima em um só \n",
    "algoritmos_boxplot_df = pd.concat([random_forest_df,svm_df,knn_df,naive_bayes_df,decision_tree_df], axis=1, join='inner')\n",
    "\n",
    "display(algoritmos_boxplot_df)"
   ]
  },
  {
   "cell_type": "code",
   "execution_count": null,
   "metadata": {},
   "outputs": [],
   "source": [
    "# BOXPLOT DOS RESULTADOS \n",
    "\n",
    "random_forest.acuracia()\n",
    "decision_tree.acuracia()\n",
    "svm.acuracia()\n",
    "naive_bayes.acuracia()\n",
    "knn.acuracia()\n",
    "\n",
    "fig = plt.figure(figsize=(8,5))\n",
    "algoritmos_boxplot_df.boxplot(column=['Random Forest','SVM','KNN','Naive Bayes','Árvore de Decisão'])\n",
    "plt.title('Algoritmos de Machine Learning')\n",
    "plt.ylabel('Acurácia', fontsize=12, color='black')\n",
    "plt.show()"
   ]
  }
 ],
 "metadata": {
  "kernelspec": {
   "display_name": "Python 3",
   "language": "python",
   "name": "python3"
  },
  "language_info": {
   "codemirror_mode": {
    "name": "ipython",
    "version": 3
   },
   "file_extension": ".py",
   "mimetype": "text/x-python",
   "name": "python",
   "nbconvert_exporter": "python",
   "pygments_lexer": "ipython3",
   "version": "3.7.4"
  }
 },
 "nbformat": 4,
 "nbformat_minor": 2
}
